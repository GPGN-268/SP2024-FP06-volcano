{
 "cells": [
  {
   "cell_type": "markdown",
   "id": "086d2886-2880-415f-b65d-50638e3f9d33",
   "metadata": {},
   "source": [
    "# Suflur Dioxide and Seismic Data Processing"
   ]
  },
  {
   "cell_type": "markdown",
   "id": "7d027dfb-9452-40e6-85c2-13dd14ab8543",
   "metadata": {},
   "source": [
    "## Sulfur Dioxide Data Processing using NASA GES Data\n",
    "\n",
    "Using the [NASA GES DISC Database](https://disc.gsfc.nasa.gov/datasets/OMPS_NPP_NMSO2_PCA_L2_2/summary?keywords=sulfur%20dioxide), select the dates and region of data to download.\n",
    "\n",
    "The data is stored in h5 files, which requires h5py to read and interpret.\n",
    "\n",
    "This program utilizes a text file with all of the names of the files on individual lines. This is so the program can read the file names off the lines directly into a list.\n",
    "\n",
    "Below are the packages to import:"
   ]
  },
  {
   "cell_type": "code",
   "execution_count": 1,
   "id": "20b17f13-08ee-4492-b617-1a139451fce8",
   "metadata": {},
   "outputs": [],
   "source": [
    "import numpy as np\n",
    "import pandas as pd\n",
    "import matplotlib.pyplot as plt\n",
    "import cartopy\n",
    "import cartopy.feature as cfeature\n",
    "import cartopy.crs as ccrs\n",
    "from cartopy.io.img_tiles import GoogleTiles\n",
    "import h5py\n",
    "import imageio\n",
    "from PIL import Image"
   ]
  },
  {
   "cell_type": "markdown",
   "id": "5dc50877-7920-4c02-b899-3dd2cce97f6d",
   "metadata": {},
   "source": [
    "### Helper Functions\n",
    "\n",
    "Functions for easy processing the files into a dataframe, plotting the data on a shaded releif map using cartopy and matplotlib, and saving the figure as a PNG, and an import for the shaded relief map style."
   ]
  },
  {
   "cell_type": "code",
   "execution_count": 1,
   "id": "4906a38e-b69f-4f9f-9a94-e111131be3fd",
   "metadata": {},
   "outputs": [],
   "source": [
    "def dataset(path, file, keys, columns):\n",
    "    '''\n",
    "    Reads h5 file dataset, the keys to the specifc table, and returns a dataframe with the data in column form. \n",
    "    Do not put date as the first key or column, as this will break the function. Start with Latitude, Longitude, or SO2 Column\n",
    "    -----------\n",
    "    Parameters:\n",
    "        path: Local or Absolute filepath to h5 file\n",
    "        file: Name of h5 file\n",
    "        keys: List of keys to use. i.e. 'GEOLOCATION_DATA/Latitude'\n",
    "        columns: List of Column names to use in DataFrame i.e. 'latitude'\n",
    "    -----------\n",
    "    Returns:\n",
    "        df: the dataframe of the specific data called upon in the function\n",
    "    '''\n",
    "    # Create DataFrame object\n",
    "    df = pd.DataFrame()\n",
    "\n",
    "    # iterate through keys and columns\n",
    "    for key, column in zip(keys, columns):\n",
    "        # Read the data from the specific table in the file, convert to numpy array\n",
    "        array = np.array(h5py.File(f'{path}{file}')[key])\n",
    "\n",
    "        # Try to flatten and add to DataFrame\n",
    "        try:\n",
    "            df[column] = array.flatten()\n",
    "\n",
    "        # If it fails, date table. \n",
    "        except:\n",
    "            repeat = len(df)  # Get num of rows in DataFrame to create proper length array of dates\n",
    "            date = array[0].decode('UTF-8').split('T')[0]  # Use first value of the array and extract only the date\n",
    "            date_arr = np.repeat(np.array(date), repeat)  # Make numpy array with matching length\n",
    "            df[column] = date_arr\n",
    "    \n",
    "    return df"
   ]
  },
  {
   "cell_type": "code",
   "execution_count": 3,
   "id": "0fc16c72-9976-4c14-8c18-698a37acd500",
   "metadata": {},
   "outputs": [],
   "source": [
    "def plot(df, date):\n",
    "    '''\n",
    "    Given a data frame, plot the data on a geospatial map with shaded releif.\n",
    "    -----------\n",
    "    Parameters:\n",
    "    df: Pandas DataFrame of data to be plotted\n",
    "    date: The date within the dataframe to plot\n",
    "    '''\n",
    "    # reduce dataframe to values only on specified date\n",
    "    df = df[df.date == date]\n",
    "\n",
    "    # plot the data onto a map with shaded relief. Includes coastlines, oceans, rivers, and lakes. \n",
    "    fig = plt.figure(figsize=(10,8))\n",
    "    ax = plt.axes(projection=ShadedReliefESRI().crs)\n",
    "    ax.set_extent(extent)\n",
    "    ax.add_feature(cfeature.OCEAN)\n",
    "    ax.add_feature(cfeature.LAKES, edgecolor='black')\n",
    "    ax.add_feature(cfeature.RIVERS)\n",
    "    ax.coastlines()\n",
    "    # gridlines\n",
    "    gl = ax.gridlines(draw_labels=True)\n",
    "    gl.top_labels = False\n",
    "    gl.right_labels = False\n",
    "    # place a marker on the volcano\n",
    "    ax.scatter(lon_sabancaya, lat_sabancaya, marker='^', color='k', transform=ccrs.PlateCarree())\n",
    "    # scatter plot the data. Cmap by the so2 values.\n",
    "    cs = ax.scatter(df.longitude, df.latitude, c=df.so2,\n",
    "               transform=ccrs.PlateCarree(), cmap='YlOrRd',\n",
    "               vmin=0, vmax=10)\n",
    "    # Colorbar parameters\n",
    "    cax = fig.add_axes([.95, .25, .02, .5])\n",
    "    cbar = plt.colorbar(cs, cax=cax, label=u'SO\\u2082 [DU]')\n",
    "    ax.add_image(ShadedReliefESRI(), 8)\n",
    "    ax.set_title(f'Atmospheric Sulfur Dioxide {date}', fontsize=20)\n",
    "    \n",
    "    plt.savefig(f'../figures/gif-pngs/{date}-so2.png', bbox_inches='tight')\n",
    "    plt.show()"
   ]
  },
  {
   "cell_type": "code",
   "execution_count": 4,
   "id": "f29dd58b-d7fb-42ca-8ac3-53ba593755ef",
   "metadata": {},
   "outputs": [],
   "source": [
    "# Shaded relief map style\n",
    "class ShadedReliefESRI(GoogleTiles):\n",
    "    # shaded relief\n",
    "    def _image_url(self, tile):\n",
    "        x, y, z = tile\n",
    "        url = ('https://server.arcgisonline.com/ArcGIS/rest/services/' \\\n",
    "               'World_Shaded_Relief/MapServer/tile/{z}/{y}/{x}.jpg').format(\n",
    "               z=z, y=y, x=x)\n",
    "        return url"
   ]
  },
  {
   "cell_type": "markdown",
   "id": "cbe76b1e-848d-4ab8-bdbf-26829abc0ba0",
   "metadata": {},
   "source": [
    "### Bulk Code\n",
    "\n",
    "Load the files into a list using a .txt file, process the data using the dataset function, then plot that data on a map using the plot function. The .png files are used to make a .gif of the movement of sulfur dioxide over time. \n",
    "\n",
    "Next, the total sulfur dioxide in the image is added up and plotted as a time series to show the amount present in the atmosphere. Using the data from the seismic notebook, the total number of earthquakes recorded in a year is plotted on the same plot as the total amount of sulfur dioxide in a year to identify any correlations"
   ]
  },
  {
   "cell_type": "code",
   "execution_count": null,
   "id": "60e9826e-493f-4cff-b02c-ab9554a4b27a",
   "metadata": {},
   "outputs": [],
   "source": [
    "# Read text file with all of the h5 file names on separate lines\n",
    "# Place each file name as a unique entry in a list\n",
    "with open('../data/sabancaya/so2-data/file-names.txt', 'r') as files:\n",
    "    file_list = files.read().splitlines()"
   ]
  },
  {
   "cell_type": "code",
   "execution_count": null,
   "id": "2cdad344-dafc-40b2-b676-9263c6a1b271",
   "metadata": {},
   "outputs": [],
   "source": [
    "path = '../data/sabancaya/so2-data/OMPS-NPP/'\n",
    "keys = ['GEOLOCATION_DATA/Latitude', 'GEOLOCATION_DATA/Longitude', 'SCIENCE_DATA/ColumnAmountSO2', 'GEOLOCATION_DATA/UTC_CCSDS_A']\n",
    "columns = ['latitude', 'longitude', 'so2', 'date']"
   ]
  },
  {
   "cell_type": "code",
   "execution_count": null,
   "id": "87882dd1-bf68-429b-9415-ad361f20d6e0",
   "metadata": {},
   "outputs": [],
   "source": [
    "# Create list objects for the data frames and the dates\n",
    "df_list = []\n",
    "dates_list = []\n",
    "for file in file_list:\n",
    "    # convert the file into a dataframe, append to a list\n",
    "    try:\n",
    "        df = dataset(path, file, keys, columns)\n",
    "        df_list.append(df)\n",
    "        dates_list.append(df.date.iloc[0])\n",
    "    # print the name of files that do not fit the format\n",
    "    except:\n",
    "        print(f\"File '{file}' does not work\")\n",
    "# concatenate df_list into a single dataframe\n",
    "df = pd.concat(df_list)"
   ]
  },
  {
   "cell_type": "code",
   "execution_count": null,
   "id": "41b14609-1185-4a19-b1c2-d4e9a3328651",
   "metadata": {},
   "outputs": [],
   "source": [
    "# Merge any duplicate dates to ensure only one entry per date, then sort\n",
    "dates_list = list(set(dates_list))\n",
    "dates_list.sort()"
   ]
  },
  {
   "cell_type": "code",
   "execution_count": null,
   "id": "d9844d8b-06ea-400c-9895-890184a6ef17",
   "metadata": {},
   "outputs": [],
   "source": [
    "# Latitude and Longitude of Vulcan Sabancaya\n",
    "lon_sabancaya, lat_sabancaya = -71.857, -15.787\n",
    "# Map Extents\n",
    "extent = [-85.857, -66.857, -10.787, -21.79]"
   ]
  },
  {
   "cell_type": "code",
   "execution_count": null,
   "id": "8b5a702b-037d-4e35-9e0b-a2ba7aabdcf2",
   "metadata": {},
   "outputs": [],
   "source": [
    "# Refine DataFrame to within the map extents and any sulfur dioxide above .25 DU\n",
    "# Restricting to points above .25 reduces noise and makes the data easier to visualize\n",
    "df_refined = df[(df.longitude >= extent[0]) & (df.longitude <= extent[1]) &\n",
    "                (df.latitude >= extent[3]) & (df.latitude <= extent[2]) &\n",
    "                (df.so2 > .25)]"
   ]
  },
  {
   "cell_type": "code",
   "execution_count": null,
   "id": "286e610b-fd66-494e-9894-2e1cfbd08e0c",
   "metadata": {
    "scrolled": true
   },
   "outputs": [],
   "source": [
    "for date in dates_list:\n",
    "    plot(df_refined, date)"
   ]
  },
  {
   "cell_type": "code",
   "execution_count": null,
   "id": "c77e5ca7-4c29-4c44-83f5-30dc4c5dc95f",
   "metadata": {},
   "outputs": [],
   "source": [
    "images = []\n",
    "for name in dates_list:\n",
    "    image = Image.open(f'../figures/gif-pngs/{name}-so2.png')\n",
    "    images.append(image)\n",
    "# Save as GIF with each frame\n",
    "imageio.mimsave('../figures/so2-sabancaya.gif', images, duration=750)"
   ]
  },
  {
   "cell_type": "code",
   "execution_count": null,
   "id": "d8753475-bbc0-456c-a8c3-21ec68ce65d0",
   "metadata": {},
   "outputs": [],
   "source": [
    "# Montly sum of so2\n",
    "df_monthly = df_refined[['so2','date']].groupby('date').sum().reset_index()"
   ]
  },
  {
   "cell_type": "code",
   "execution_count": null,
   "id": "941d0306-3ba0-46ea-aef6-5087bf722404",
   "metadata": {},
   "outputs": [],
   "source": [
    "# Yearly sum of so2\n",
    "years = np.arange('2015', '2025', dtype='datetime64')\n",
    "yearly_sum_so2 = []\n",
    "for year in years:\n",
    "    df_years = df_monthly.query(f'date.str.contains(\"{year}\")', engine='python')\n",
    "    yearly_sum_so2.append(df_years['so2'].sum())"
   ]
  },
  {
   "cell_type": "code",
   "execution_count": null,
   "id": "8e5f488c-d9c9-4cf7-b735-d61a09c32cf1",
   "metadata": {},
   "outputs": [],
   "source": [
    "# plot of the total SO2 in the frame in a given month\n",
    "plt.figure(figsize=(12,5))\n",
    "plt.plot(df_monthly['date'], df_monthly['so2'], lw=2)\n",
    "plt.title(u'SO\\u2082 Total on the First of the Month', fontsize=20)\n",
    "plt.xlabel('Date', fontsize=14)\n",
    "plt.ylabel(u'SO\\u2082 [DU]', fontsize=14)\n",
    "plt.xticks(df_monthly['date'][::6], rotation=30)\n",
    "plt.xlim(df_monthly.date[0], df_monthly.date.iloc[-1])\n",
    "plt.grid(color='gray', lw=1, ls='dotted')\n",
    "plt.savefig('../figures/so2-monthly-total.png', bbox_inches='tight')\n",
    "plt.show()"
   ]
  },
  {
   "cell_type": "markdown",
   "id": "d1964775-73e8-414f-9212-b30d72177df3",
   "metadata": {},
   "source": [
    "The end of 2017 into the beginning of 2018 was a particularly heavy period for the release of sulfur dioxide."
   ]
  },
  {
   "cell_type": "markdown",
   "id": "cb1c3e72-845f-434f-a649-2b599fdf2040",
   "metadata": {},
   "source": [
    "## Seismic Processing Using USGS NEIC Data\n",
    "\n",
    "Using the all time [NEIC catalog](https://earthquake.usgs.gov/earthquakes/search/) for earthquakes, download seismic data in a 50km radius of the coordinates of Sabancaya (-15.787&deg; latitude, -71.857&deg; longitude). The USGS will automatically download the search as a CSV files named \"query\"."
   ]
  },
  {
   "cell_type": "code",
   "execution_count": null,
   "id": "88004c10-9003-4ab1-b94b-356b8a7b38b3",
   "metadata": {},
   "outputs": [],
   "source": [
    "# Read .csv into a dataframe, then refine dataframe to depths less than 30km\n",
    "df_seismic = pd.read_csv('../data/sabancaya/seismic-data/query.csv')\n",
    "df_seismic_ref = df_seismic[df_seismic['depth'] < 30]"
   ]
  },
  {
   "cell_type": "code",
   "execution_count": null,
   "id": "f7c4bb44-c10b-44a4-b5a6-e7e09f1dc099",
   "metadata": {},
   "outputs": [],
   "source": [
    "# Map extents for seismic data\n",
    "extent = [-72.86, -70.86, -14.79, -16.79]\n",
    "years = np.arange('2011', '2025', dtype='datetime64')"
   ]
  },
  {
   "cell_type": "code",
   "execution_count": null,
   "id": "460480ec-dc10-4fd4-bd1f-342c2cf25206",
   "metadata": {},
   "outputs": [],
   "source": [
    "# Plot the seismic data on a geospatial plot with shaded relief by year\n",
    "bbox = {'boxstyle':'round', 'fc':'white', 'ec':'k', 'alpha':0.75}\n",
    "fig, axes = plt.subplots(3, 5, figsize=(16,10), subplot_kw={'projection':ccrs.PlateCarree()})\n",
    "axes = axes.flatten()\n",
    "yearly_sum_seismic = []\n",
    "\n",
    "# iterate through the number of years\n",
    "for i, year in enumerate(years):\n",
    "    # use query to pull only events from the given year\n",
    "    df_plot = df_seismic_ref.query(f'time.str.contains(\"{year}\")', engine='python')\n",
    "    sum = len(df_plot)\n",
    "\n",
    "    # plot the events on the proper subplot\n",
    "    ax = axes[i]\n",
    "    ax.set_extent(extent)\n",
    "    ax.scatter(lon_sabancaya, lat_sabancaya, marker='^', color='k', transform=ccrs.PlateCarree())\n",
    "    ax.scatter(df_plot['longitude'], df_plot['latitude'], marker='o', color='steelblue')\n",
    "    ax.add_image(ShadedReliefESRI(), 8)\n",
    "    ax.coastlines()\n",
    "    ax.set_title(f'{year}')\n",
    "    ax.text((extent[0]+.1), (extent[2]-.1), f'Count: {sum}', transform=ccrs.PlateCarree(), va='top', bbox=bbox)\n",
    "\n",
    "    # add number of events in the year to a list\n",
    "    yearly_sum_seismic.append(sum)\n",
    "\n",
    "# make the last plot invisible becuase of odd number years\n",
    "axes[-1].set_visible(False)\n",
    "plt.suptitle(\"Earthquakes within 50km of Sabancaya\", fontsize=20)\n",
    "plt.subplots_adjust(wspace=.1, hspace=.1)\n",
    "plt.savefig('../figures/earthquakes.png', bbox_inches='tight')"
   ]
  },
  {
   "cell_type": "markdown",
   "id": "8720941d-f055-47d0-9cc1-b061a9dadea7",
   "metadata": {},
   "source": [
    "## Plot Yearly Sum of Seismic Events and Sulfur Dioxide on the Same Plot\n",
    "\n",
    "Plot the year sum of both seismic data and sulfur dioxide from 2015 to 2023. 2024 is excluded because there has not been a full year of data."
   ]
  },
  {
   "cell_type": "code",
   "execution_count": null,
   "id": "e38766d5-9d92-409d-b934-b0f9ceda5522",
   "metadata": {},
   "outputs": [],
   "source": [
    "# Plots Total so2 emission and total seismic events in a year on the same plot. \n",
    "fig, ax1 = plt.subplots()\n",
    "plt.title(u'Yearly SO\\u2082 Emissions and Seismic Events', fontsize=18)\n",
    "plt.grid(color='gray', lw=1, ls='dotted')\n",
    "\n",
    "# plot the SO2 data in 'tomato'\n",
    "color='tomato'\n",
    "ax1.plot(years[4:], yearly_sum_so2, color=color)\n",
    "ax1.set_ylabel(u'Total SO\\u2082 [DU]', fontsize=14, color=color)\n",
    "\n",
    "# Twin the x-axis so there are two separate scales on y-axis\n",
    "ax2 = ax1.twinx()\n",
    "\n",
    "# plot the seismic data in 'steel blue'\n",
    "color = 'steelblue'\n",
    "ax2.plot(years[4:], yearly_sum_seismic[4:], color=color)\n",
    "ax2.set_ylabel('Number of Seismic Events', fontsize=14, color=color)\n",
    "ax2.set_xlim(years[4], years[-2])\n",
    "plt.savefig('../figures/so2-seismic.png')\n",
    "plt.show()"
   ]
  },
  {
   "cell_type": "markdown",
   "id": "2bb24f4e-7c69-4bb0-9c35-259a6d210525",
   "metadata": {},
   "source": [
    "Sulfur Dioxide and seismic events seem to have an inverse relationship. When seismic events increase, sulfur dioxide decreases. When seismic events decrease, sulfur dioxide increases."
   ]
  },
  {
   "cell_type": "code",
   "execution_count": null,
   "id": "7bedc3df-e85a-4d0e-9a84-a0e01446a5c7",
   "metadata": {},
   "outputs": [],
   "source": [
    "df_seismic_ref.to_csv('../data/refined-seismic.csv')"
   ]
  }
 ],
 "metadata": {
  "kernelspec": {
   "display_name": "Python 3 (ipykernel)",
   "language": "python",
   "name": "python3"
  },
  "language_info": {
   "codemirror_mode": {
    "name": "ipython",
    "version": 3
   },
   "file_extension": ".py",
   "mimetype": "text/x-python",
   "name": "python",
   "nbconvert_exporter": "python",
   "pygments_lexer": "ipython3",
   "version": "3.11.5"
  }
 },
 "nbformat": 4,
 "nbformat_minor": 5
}
